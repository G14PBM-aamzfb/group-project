{
  "cells": [
    {
      "cell_type": "code",
      "source": [
        "# Imports\n",
        "import numpy as np\n",
        "import matplotlib.pyplot as pp\n",
        "from IPython.core.pylabtools import figsize\n",
        "import warnings\n",
        "warnings.filterwarnings('ignore')\n",
        "figsize(10,10)"
      ],
      "outputs": [],
      "execution_count": 2,
      "metadata": {
        "collapsed": false
      }
    },
    {
      "cell_type": "code",
      "source": [
        "# Setting model parameters\n",
        "Du = 0.01\n",
        "Dv = 2.0\n",
        "c = 0.01\n",
        "e = 0.02\n",
        "S = 0.00\n",
        "k = 0.65\n",
        "gamma = 15000"
      ],
      "outputs": [],
      "execution_count": 11,
      "metadata": {
        "collapsed": false
      }
    },
    {
      "cell_type": "code",
      "source": [
        "# Setting simulation parameters\n",
        "#? needs fixing\n",
        "size = 200\n",
        "dx = 1./size\n",
        "dt = .000000001"
      ],
      "outputs": [],
      "execution_count": 319,
      "metadata": {
        "collapsed": false
      }
    },
    {
      "cell_type": "code",
      "source": [
        "U1 = 0\n",
        "U2 = 0\n",
        "U = np.random.rand(size,size)*0.02\n",
        "V = np.random.rand(size,size)*0.02"
      ],
      "outputs": [],
      "execution_count": 326,
      "metadata": {
        "collapsed": false
      }
    },
    {
      "cell_type": "code",
      "source": [
        "def show_patterns(U, ax=None):\n",
        "    ax.imshow(U, cmap=pp.cm.bone_r,\n",
        "              interpolation='none',\n",
        "              extent=[-1, 1, -1, 1])\n",
        "    ax.set_axis_off()"
      ],
      "outputs": [],
      "execution_count": 304,
      "metadata": {
        "collapsed": false
      }
    },
    {
      "cell_type": "code",
      "source": [
        "def laplacian(Z,dx):\n",
        "    Ztop = Z[0:-2,1:-1]\n",
        "    Zleft = Z[1:-1,0:-2]\n",
        "    Zbottom = Z[2:,1:-1]\n",
        "    Zright = Z[1:-1,2:]\n",
        "    Zcenter = Z[1:-1,1:-1]\n",
        "    return (Ztop+Zleft+Zbottom+Zright-4*Zcenter)/dx**2"
      ],
      "outputs": [],
      "execution_count": 305,
      "metadata": {
        "collapsed": false
      }
    },
    {
      "cell_type": "code",
      "source": [
        "def rk(A,B,dx,dt):\n",
        "    # Discard borders\n",
        "    Uc = A[1:-1, 1:-1]\n",
        "    Vc = B[1:-1, 1:-1]\n",
        "    \n",
        "    # Calculate slopes\n",
        "    Un = (Du/Dv) * laplacian(U,dx) + gamma * (Uc**2/(np.ones(Uc.shape)+k*Uc**2)/Vc - c*Uc)\n",
        "    Vn = laplacian(V,dx) + gamma*(Uc**2 - e*Vc + np.full(Vc.shape,S))\n",
        "    A[1:-1, 1:-1], B[1:-1, 1:-1] = Un, Vn\n",
        "    \n",
        "    # Neumann boundary conditions: du/dx=0, positive values\n",
        "    for Z in (A, B):\n",
        "        Z[0, :] = Z[1, :]\n",
        "        Z[-1, :] = Z[-2, :]\n",
        "        Z[:, 0] = Z[:, 1]\n",
        "        Z[:, -1] = Z[:, -2]\n",
        "    return A,B\n",
        "\n",
        "def rk2(U,V,dx,dt):\n",
        "    global U1,U2\n",
        "    U1,V1 = rk(U,V,dx,dt)\n",
        "    U2,V2 = rk(U+(U1*dt)/2,V+(V1*dt)/2,dx,dt)\n",
        "    return U+dt*U2, V+dt*V2\n",
        "    "
      ],
      "outputs": [],
      "execution_count": 330,
      "metadata": {
        "collapsed": false,
        "outputHidden": false,
        "inputHidden": false
      }
    },
    {
      "cell_type": "code",
      "source": [
        "# Simulation for n timesteps\n",
        "for i in range(1):\n",
        "    U,V = rk2(U,V,dx,dt)\n",
        "print('mean k1: ',np.mean(U1),', mean k2: ',np.mean(U2)) \n",
        "pp.close(\"all\")\n",
        "fig,ax = pp.subplots(1,1)\n",
        "show_patterns(U,ax)\n",
        "fig"
      ],
      "outputs": [
        {
          "output_type": "stream",
          "name": "stdout",
          "text": [
            "mean k1:  1216.48643616 , mean k2:  -181735.915635\n"
          ]
        },
        {
          "output_type": "execute_result",
          "execution_count": 329,
          "data": {
            "text/plain": [
              "<matplotlib.figure.Figure at 0x144e89b70>"
            ],
            "image/png": "[encoded data removed]"
          },
          "metadata": {}
        }
      ],
      "execution_count": 329,
      "metadata": {
        "collapsed": false,
        "outputHidden": false,
        "inputHidden": false
      }
    },
    {
      "cell_type": "code",
      "source": [
        "U"
      ],
      "outputs": [
        {
          "output_type": "execute_result",
          "execution_count": 328,
          "data": {
            "text/plain": [
              "array([[ 0.01120231,  0.00481243,  0.01499889, ...,  0.00804793,\n",
              "         0.00333592,  0.01680767],\n",
              "       [ 0.01620075,  0.01563261,  0.00345561, ...,  0.00790938,\n",
              "         0.01842793,  0.00701657],\n",
              "       [ 0.00177914,  0.01935038,  0.00732198, ...,  0.00893204,\n",
              "         0.00896455,  0.01132007],\n",
              "       ..., \n",
              "       [ 0.0137271 ,  0.00678995,  0.01230996, ...,  0.00748315,\n",
              "         0.00463834,  0.00794456],\n",
              "       [ 0.01096079,  0.01921335,  0.01314946, ...,  0.01014064,\n",
              "         0.00209586,  0.01658984],\n",
              "       [ 0.0082154 ,  0.01356289,  0.01170667, ...,  0.01721266,\n",
              "         0.01406888,  0.00861676]])"
            ]
          },
          "metadata": {}
        }
      ],
      "execution_count": 328,
      "metadata": {
        "collapsed": false,
        "outputHidden": false,
        "inputHidden": false
      }
    }
  ],
  "metadata": {
    "kernelspec": {
      "name": "jupyter",
      "language": "python",
      "display_name": "Python (Jupyter)"
    },
    "language_info": {
      "name": "python",
      "version": "3.6.2",
      "mimetype": "text/x-python",
      "codemirror_mode": {
        "name": "ipython",
        "version": 3
      },
      "pygments_lexer": "ipython3",
      "nbconvert_exporter": "python",
      "file_extension": ".py"
    },
    "kernel_info": {
      "name": "jupyter"
    },
    "nteract": {
      "version": "0.7.0"
    }
  },
  "nbformat": 4,
  "nbformat_minor": 0
}